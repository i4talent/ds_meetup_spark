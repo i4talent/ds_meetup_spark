{
  "nbformat": 4,
  "nbformat_minor": 0,
  "metadata": {
    "colab": {
      "provenance": [],
      "include_colab_link": true
    },
    "kernelspec": {
      "name": "python3",
      "display_name": "Python 3"
    },
    "language_info": {
      "name": "python"
    }
  },
  "cells": [
    {
      "cell_type": "markdown",
      "metadata": {
        "id": "view-in-github",
        "colab_type": "text"
      },
      "source": [
        "<a href=\"https://colab.research.google.com/github/i4talent/ds_meetup_spark/blob/main/spark_workshop_i4t.ipynb\" target=\"_parent\"><img src=\"https://colab.research.google.com/assets/colab-badge.svg\" alt=\"Open In Colab\"/></a>"
      ]
    },
    {
      "cell_type": "markdown",
      "source": [
        "# Introduction"
      ],
      "metadata": {
        "id": "QU1cYCBZzdEE"
      }
    },
    {
      "cell_type": "code",
      "execution_count": 2,
      "metadata": {
        "id": "aEkhOxlioyp6",
        "outputId": "8cc8703b-908a-4d69-f12f-f7779cd9d8ff",
        "colab": {
          "base_uri": "https://localhost:8080/"
        }
      },
      "outputs": [
        {
          "output_type": "stream",
          "name": "stdout",
          "text": [
            "Downloading...\n",
            "From: https://drive.google.com/uc?id=1j7PAGBC8WMef_jq0UISmU3dwM-_uLv7S\n",
            "To: /content/i4talent.csv\n",
            "\r  0% 0.00/9.36M [00:00<?, ?B/s]\r100% 9.36M/9.36M [00:00<00:00, 104MB/s]\n"
          ]
        }
      ],
      "source": [
        "!gdown 1j7PAGBC8WMef_jq0UISmU3dwM-_uLv7S"
      ]
    }
  ]
}